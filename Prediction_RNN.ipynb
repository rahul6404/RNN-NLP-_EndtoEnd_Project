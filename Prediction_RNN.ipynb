{
 "cells": [
  {
   "cell_type": "code",
   "execution_count": 1,
   "id": "6b4a7e87-9dcb-4f23-a90b-a9fe411a2b5e",
   "metadata": {},
   "outputs": [],
   "source": [
    "import numpy as np\n",
    "import tensorflow as tf\n",
    "from tensorflow.keras.datasets import imdb\n",
    "from tensorflow.keras.preprocessing import sequence\n",
    "from tensorflow.keras.models import load_model"
   ]
  },
  {
   "cell_type": "code",
   "execution_count": 2,
   "id": "23dc0cfb-d618-4f7a-8fd5-85447c746ed4",
   "metadata": {},
   "outputs": [
    {
     "name": "stderr",
     "output_type": "stream",
     "text": [
      "WARNING:absl:Compiled the loaded model, but the compiled metrics have yet to be built. `model.compile_metrics` will be empty until you train or evaluate the model.\n"
     ]
    },
    {
     "data": {
      "text/html": [
       "<pre style=\"white-space:pre;overflow-x:auto;line-height:normal;font-family:Menlo,'DejaVu Sans Mono',consolas,'Courier New',monospace\"><span style=\"font-weight: bold\">Model: \"sequential_2\"</span>\n",
       "</pre>\n"
      ],
      "text/plain": [
       "\u001b[1mModel: \"sequential_2\"\u001b[0m\n"
      ]
     },
     "metadata": {},
     "output_type": "display_data"
    },
    {
     "data": {
      "text/html": [
       "<pre style=\"white-space:pre;overflow-x:auto;line-height:normal;font-family:Menlo,'DejaVu Sans Mono',consolas,'Courier New',monospace\">┏━━━━━━━━━━━━━━━━━━━━━━━━━━━━━━━━━┳━━━━━━━━━━━━━━━━━━━━━━━━┳━━━━━━━━━━━━━━━┓\n",
       "┃<span style=\"font-weight: bold\"> Layer (type)                    </span>┃<span style=\"font-weight: bold\"> Output Shape           </span>┃<span style=\"font-weight: bold\">       Param # </span>┃\n",
       "┡━━━━━━━━━━━━━━━━━━━━━━━━━━━━━━━━━╇━━━━━━━━━━━━━━━━━━━━━━━━╇━━━━━━━━━━━━━━━┩\n",
       "│ embedding_2 (<span style=\"color: #0087ff; text-decoration-color: #0087ff\">Embedding</span>)         │ (<span style=\"color: #00af00; text-decoration-color: #00af00\">32</span>, <span style=\"color: #00af00; text-decoration-color: #00af00\">500</span>, <span style=\"color: #00af00; text-decoration-color: #00af00\">128</span>)         │     <span style=\"color: #00af00; text-decoration-color: #00af00\">1,280,000</span> │\n",
       "├─────────────────────────────────┼────────────────────────┼───────────────┤\n",
       "│ simple_rnn_2 (<span style=\"color: #0087ff; text-decoration-color: #0087ff\">SimpleRNN</span>)        │ (<span style=\"color: #00af00; text-decoration-color: #00af00\">32</span>, <span style=\"color: #00af00; text-decoration-color: #00af00\">128</span>)              │        <span style=\"color: #00af00; text-decoration-color: #00af00\">32,896</span> │\n",
       "├─────────────────────────────────┼────────────────────────┼───────────────┤\n",
       "│ dense_2 (<span style=\"color: #0087ff; text-decoration-color: #0087ff\">Dense</span>)                 │ (<span style=\"color: #00af00; text-decoration-color: #00af00\">32</span>, <span style=\"color: #00af00; text-decoration-color: #00af00\">1</span>)                │           <span style=\"color: #00af00; text-decoration-color: #00af00\">129</span> │\n",
       "└─────────────────────────────────┴────────────────────────┴───────────────┘\n",
       "</pre>\n"
      ],
      "text/plain": [
       "┏━━━━━━━━━━━━━━━━━━━━━━━━━━━━━━━━━┳━━━━━━━━━━━━━━━━━━━━━━━━┳━━━━━━━━━━━━━━━┓\n",
       "┃\u001b[1m \u001b[0m\u001b[1mLayer (type)                   \u001b[0m\u001b[1m \u001b[0m┃\u001b[1m \u001b[0m\u001b[1mOutput Shape          \u001b[0m\u001b[1m \u001b[0m┃\u001b[1m \u001b[0m\u001b[1m      Param #\u001b[0m\u001b[1m \u001b[0m┃\n",
       "┡━━━━━━━━━━━━━━━━━━━━━━━━━━━━━━━━━╇━━━━━━━━━━━━━━━━━━━━━━━━╇━━━━━━━━━━━━━━━┩\n",
       "│ embedding_2 (\u001b[38;5;33mEmbedding\u001b[0m)         │ (\u001b[38;5;34m32\u001b[0m, \u001b[38;5;34m500\u001b[0m, \u001b[38;5;34m128\u001b[0m)         │     \u001b[38;5;34m1,280,000\u001b[0m │\n",
       "├─────────────────────────────────┼────────────────────────┼───────────────┤\n",
       "│ simple_rnn_2 (\u001b[38;5;33mSimpleRNN\u001b[0m)        │ (\u001b[38;5;34m32\u001b[0m, \u001b[38;5;34m128\u001b[0m)              │        \u001b[38;5;34m32,896\u001b[0m │\n",
       "├─────────────────────────────────┼────────────────────────┼───────────────┤\n",
       "│ dense_2 (\u001b[38;5;33mDense\u001b[0m)                 │ (\u001b[38;5;34m32\u001b[0m, \u001b[38;5;34m1\u001b[0m)                │           \u001b[38;5;34m129\u001b[0m │\n",
       "└─────────────────────────────────┴────────────────────────┴───────────────┘\n"
      ]
     },
     "metadata": {},
     "output_type": "display_data"
    },
    {
     "data": {
      "text/html": [
       "<pre style=\"white-space:pre;overflow-x:auto;line-height:normal;font-family:Menlo,'DejaVu Sans Mono',consolas,'Courier New',monospace\"><span style=\"font-weight: bold\"> Total params: </span><span style=\"color: #00af00; text-decoration-color: #00af00\">1,313,027</span> (5.01 MB)\n",
       "</pre>\n"
      ],
      "text/plain": [
       "\u001b[1m Total params: \u001b[0m\u001b[38;5;34m1,313,027\u001b[0m (5.01 MB)\n"
      ]
     },
     "metadata": {},
     "output_type": "display_data"
    },
    {
     "data": {
      "text/html": [
       "<pre style=\"white-space:pre;overflow-x:auto;line-height:normal;font-family:Menlo,'DejaVu Sans Mono',consolas,'Courier New',monospace\"><span style=\"font-weight: bold\"> Trainable params: </span><span style=\"color: #00af00; text-decoration-color: #00af00\">1,313,025</span> (5.01 MB)\n",
       "</pre>\n"
      ],
      "text/plain": [
       "\u001b[1m Trainable params: \u001b[0m\u001b[38;5;34m1,313,025\u001b[0m (5.01 MB)\n"
      ]
     },
     "metadata": {},
     "output_type": "display_data"
    },
    {
     "data": {
      "text/html": [
       "<pre style=\"white-space:pre;overflow-x:auto;line-height:normal;font-family:Menlo,'DejaVu Sans Mono',consolas,'Courier New',monospace\"><span style=\"font-weight: bold\"> Non-trainable params: </span><span style=\"color: #00af00; text-decoration-color: #00af00\">0</span> (0.00 B)\n",
       "</pre>\n"
      ],
      "text/plain": [
       "\u001b[1m Non-trainable params: \u001b[0m\u001b[38;5;34m0\u001b[0m (0.00 B)\n"
      ]
     },
     "metadata": {},
     "output_type": "display_data"
    },
    {
     "data": {
      "text/html": [
       "<pre style=\"white-space:pre;overflow-x:auto;line-height:normal;font-family:Menlo,'DejaVu Sans Mono',consolas,'Courier New',monospace\"><span style=\"font-weight: bold\"> Optimizer params: </span><span style=\"color: #00af00; text-decoration-color: #00af00\">2</span> (12.00 B)\n",
       "</pre>\n"
      ],
      "text/plain": [
       "\u001b[1m Optimizer params: \u001b[0m\u001b[38;5;34m2\u001b[0m (12.00 B)\n"
      ]
     },
     "metadata": {},
     "output_type": "display_data"
    }
   ],
   "source": [
    "## Load the pre-trained model with ReLU activation\n",
    "model = load_model('Simple_RNN_imdb.h5')\n",
    "model.summary()"
   ]
  },
  {
   "cell_type": "code",
   "execution_count": 3,
   "id": "4148ecad-7a5f-4d8d-88e2-591627d5d9ca",
   "metadata": {},
   "outputs": [
    {
     "data": {
      "text/plain": [
       "[array([[ 0.1401951 , -0.08511654, -0.2674247 , ...,  0.13963506,\n",
       "         -0.57087284,  0.6418179 ],\n",
       "        [-0.00425843,  0.0168789 ,  0.0564737 , ..., -0.0015313 ,\n",
       "          0.00469934,  0.02963758],\n",
       "        [-0.01027099,  0.02211149, -0.04346563, ...,  0.00949114,\n",
       "          0.03202647,  0.01603975],\n",
       "        ...,\n",
       "        [ 0.00281633,  0.00744277,  0.04500579, ...,  0.10768012,\n",
       "         -0.08171581,  0.04335003],\n",
       "        [ 0.0198772 , -0.02335473, -0.11494107, ..., -0.04722505,\n",
       "         -0.08039776,  0.0218608 ],\n",
       "        [ 0.1502394 ,  0.00568355,  0.14809845, ...,  0.1825779 ,\n",
       "         -0.01911678,  0.04692317]], dtype=float32),\n",
       " array([[ 0.03232246, -0.04570743,  0.0757651 , ..., -0.15126646,\n",
       "          0.03274575,  0.1096164 ],\n",
       "        [-0.10306248,  0.13027042,  0.12937157, ...,  0.07697501,\n",
       "          0.13279468,  0.12870038],\n",
       "        [-0.11914755, -0.02000903, -0.11075272, ...,  0.09102286,\n",
       "         -0.13000496,  0.10554665],\n",
       "        ...,\n",
       "        [-0.07803562,  0.11732386,  0.01305764, ..., -0.11836516,\n",
       "         -0.05696268,  0.12322237],\n",
       "        [ 0.17319307, -0.09975632,  0.01228512, ..., -0.04061801,\n",
       "          0.0198495 , -0.05204923],\n",
       "        [-0.13225178, -0.12475854,  0.04299037, ...,  0.16392255,\n",
       "         -0.0254256 , -0.09301386]], dtype=float32),\n",
       " array([[ 0.1404116 , -0.05364106, -0.09907764, ..., -0.00127034,\n",
       "         -0.18488583,  0.05947446],\n",
       "        [-0.08803968, -0.1218686 ,  0.16411288, ...,  0.11021967,\n",
       "          0.03534304,  0.00110918],\n",
       "        [ 0.0647653 ,  0.19841473, -0.0205969 , ..., -0.10602459,\n",
       "         -0.12733538,  0.00910223],\n",
       "        ...,\n",
       "        [ 0.01795435,  0.04110346, -0.03246208, ...,  0.00552011,\n",
       "         -0.12388344,  0.03535371],\n",
       "        [-0.05940737,  0.07957553,  0.08347167, ...,  0.09728871,\n",
       "          0.01057374, -0.09868278],\n",
       "        [-0.02028569,  0.11439134,  0.13845311, ...,  0.13306078,\n",
       "         -0.04567799, -0.1374337 ]], dtype=float32),\n",
       " array([-6.80899248e-03,  2.21144278e-02, -2.74817925e-03, -9.77821741e-03,\n",
       "         1.13756452e-02, -1.69546753e-02,  3.42309801e-03, -5.40805049e-03,\n",
       "         8.89622606e-03,  9.14630247e-04,  1.42377596e-02,  9.44261614e-04,\n",
       "        -1.52850263e-02, -2.20392458e-02, -1.84562001e-02, -1.86906140e-02,\n",
       "         1.84727646e-02, -5.37625141e-03, -1.10325441e-02,  3.68229114e-02,\n",
       "        -6.16464159e-03, -1.05461832e-02, -1.96129810e-02,  2.32374705e-02,\n",
       "        -2.38483138e-02, -1.96965002e-02, -1.83668509e-02, -1.74008943e-02,\n",
       "        -1.74471382e-02, -1.57078821e-02,  3.28616472e-03, -9.32918396e-03,\n",
       "         1.20300464e-02, -1.55472094e-02,  6.19539479e-03,  2.44746692e-02,\n",
       "         1.41992513e-02, -9.94479191e-03, -1.83293633e-02, -1.20614767e-02,\n",
       "         6.35658763e-03, -5.13154155e-05, -8.59277789e-03, -1.83851328e-02,\n",
       "        -1.18361153e-02,  8.53725150e-03,  1.21372556e-02,  9.39845107e-03,\n",
       "        -1.93051659e-02, -1.56335216e-02, -7.99150113e-03, -1.92331069e-03,\n",
       "        -3.52044147e-03, -3.81533019e-02,  3.25284265e-02, -3.88672808e-03,\n",
       "         1.34510342e-02, -2.95146424e-02, -3.12338602e-02,  3.08659422e-04,\n",
       "        -1.52392620e-02,  2.02406049e-02,  1.41942715e-02,  1.09179253e-02,\n",
       "        -1.40169971e-02, -1.94315501e-02, -1.17070647e-02, -1.24051953e-02,\n",
       "        -1.93085764e-02,  2.13414971e-02, -1.19558461e-02, -1.04650343e-02,\n",
       "        -8.13826744e-04,  1.75927095e-02,  1.27446977e-02,  2.46879123e-02,\n",
       "         2.03338428e-03,  5.84807619e-03,  2.11664923e-02, -7.56327109e-03,\n",
       "        -4.96100681e-03, -2.93516030e-04, -1.50111057e-02, -1.37895793e-02,\n",
       "        -2.37940345e-02, -2.24805642e-02, -8.01715255e-03, -7.46808946e-03,\n",
       "        -3.43238935e-03,  2.02883165e-02,  1.83030237e-02,  6.15807204e-03,\n",
       "        -1.05387550e-02, -5.49924700e-03,  2.71988250e-02, -2.35439707e-02,\n",
       "        -1.30627342e-02,  6.39418885e-03, -3.86709198e-02, -1.46648558e-02,\n",
       "         3.00663933e-02, -1.74481794e-02,  1.70477852e-02,  9.90770478e-03,\n",
       "         4.44491068e-03, -2.54654009e-02, -7.13071041e-03, -1.04271779e-02,\n",
       "        -1.80836841e-02,  1.97222997e-02, -4.16844059e-03, -3.47595029e-02,\n",
       "        -2.07157675e-02,  8.86814669e-03,  3.25802597e-03, -2.04920620e-02,\n",
       "         8.42382573e-03, -2.54799332e-02,  6.43332605e-04,  5.45552792e-03,\n",
       "         1.66560672e-02, -8.12105602e-04, -2.32991036e-02, -1.63816456e-02,\n",
       "        -1.57323651e-04,  8.94182734e-03,  1.71410944e-02, -1.94162428e-02],\n",
       "       dtype=float32),\n",
       " array([[ 1.26396716e-01],\n",
       "        [ 7.23377764e-02],\n",
       "        [ 1.11176622e+00],\n",
       "        [-4.12772633e-02],\n",
       "        [ 1.00608990e-02],\n",
       "        [ 1.64758787e-01],\n",
       "        [-1.75669685e-01],\n",
       "        [ 3.63416433e-01],\n",
       "        [ 9.19717178e-02],\n",
       "        [-7.12462589e-02],\n",
       "        [-2.33786497e-02],\n",
       "        [-8.00122786e-03],\n",
       "        [-1.58837631e-01],\n",
       "        [ 3.91141418e-03],\n",
       "        [-2.46604439e-02],\n",
       "        [-3.19603570e-02],\n",
       "        [-1.26047909e-01],\n",
       "        [ 8.77425730e-01],\n",
       "        [ 2.11992696e-01],\n",
       "        [-3.27920578e-02],\n",
       "        [ 3.12205553e-01],\n",
       "        [ 2.14105770e-01],\n",
       "        [ 1.22660913e-01],\n",
       "        [-3.53516750e-02],\n",
       "        [-1.08777449e-01],\n",
       "        [-4.63995524e-03],\n",
       "        [ 5.91923967e-02],\n",
       "        [-6.77830204e-02],\n",
       "        [ 1.28905401e-01],\n",
       "        [ 8.24812204e-02],\n",
       "        [ 1.51992887e-01],\n",
       "        [ 1.05059184e-01],\n",
       "        [ 8.97353217e-02],\n",
       "        [ 1.39502689e-01],\n",
       "        [ 2.76040249e-02],\n",
       "        [-1.21802911e-01],\n",
       "        [ 8.69747077e-04],\n",
       "        [-1.70329973e-01],\n",
       "        [ 1.22075863e-01],\n",
       "        [ 1.82892382e-01],\n",
       "        [-3.61587666e-02],\n",
       "        [ 1.74114659e-01],\n",
       "        [ 5.54515831e-02],\n",
       "        [ 3.30813736e-01],\n",
       "        [-1.15923770e-01],\n",
       "        [-1.51289493e-01],\n",
       "        [-1.98984489e-01],\n",
       "        [-5.14478423e-02],\n",
       "        [ 6.84362873e-02],\n",
       "        [-4.26762372e-01],\n",
       "        [-1.67085707e-01],\n",
       "        [ 1.49309278e-01],\n",
       "        [ 1.32545531e+00],\n",
       "        [ 1.35105485e-02],\n",
       "        [-2.26978078e-01],\n",
       "        [ 1.47782192e-01],\n",
       "        [ 2.22995162e-01],\n",
       "        [-1.98706433e-01],\n",
       "        [ 2.68860757e-01],\n",
       "        [-1.90445542e-01],\n",
       "        [ 9.27672386e-02],\n",
       "        [ 9.33992267e-02],\n",
       "        [-1.32017136e-01],\n",
       "        [ 1.36381090e-01],\n",
       "        [ 5.95121756e-02],\n",
       "        [ 2.55153067e-02],\n",
       "        [-8.93098023e-03],\n",
       "        [-5.83828911e-02],\n",
       "        [-1.12531349e-01],\n",
       "        [-2.84321755e-02],\n",
       "        [ 1.30273119e-01],\n",
       "        [ 1.83701396e-01],\n",
       "        [ 4.46617790e-02],\n",
       "        [ 1.08466603e-01],\n",
       "        [-1.54797016e-02],\n",
       "        [-7.00186193e-02],\n",
       "        [ 3.73329893e-02],\n",
       "        [ 1.76256359e-01],\n",
       "        [-1.25835255e-01],\n",
       "        [ 3.82855386e-01],\n",
       "        [ 4.71376590e-02],\n",
       "        [-1.08106248e-01],\n",
       "        [ 2.07285389e-01],\n",
       "        [ 1.46504179e-01],\n",
       "        [-3.31085585e-02],\n",
       "        [-2.03549519e-01],\n",
       "        [-1.39774427e-01],\n",
       "        [-6.21482313e-01],\n",
       "        [-2.37485304e-01],\n",
       "        [-3.90292928e-02],\n",
       "        [-1.00576155e-01],\n",
       "        [ 6.88653206e-03],\n",
       "        [ 2.07413703e-01],\n",
       "        [ 1.80436652e-02],\n",
       "        [-4.49532837e-01],\n",
       "        [-2.60339957e-02],\n",
       "        [-2.82659717e-02],\n",
       "        [-1.65519252e-01],\n",
       "        [ 4.86019850e-02],\n",
       "        [-1.43652344e-02],\n",
       "        [-2.20024899e-01],\n",
       "        [ 1.79460153e-01],\n",
       "        [-2.19690859e-01],\n",
       "        [-2.07942098e-01],\n",
       "        [ 1.54566601e-01],\n",
       "        [ 5.81343025e-02],\n",
       "        [ 2.01495856e-01],\n",
       "        [ 1.93875462e-01],\n",
       "        [ 3.25426571e-02],\n",
       "        [ 2.02299684e-01],\n",
       "        [-5.58088953e-03],\n",
       "        [-5.23363091e-02],\n",
       "        [ 5.39083898e-01],\n",
       "        [ 1.47410676e-01],\n",
       "        [-1.48664713e-01],\n",
       "        [ 1.72236383e-01],\n",
       "        [ 1.68841273e-01],\n",
       "        [ 1.50202572e-01],\n",
       "        [ 1.11865245e-01],\n",
       "        [ 2.07924739e-01],\n",
       "        [-1.19650349e-01],\n",
       "        [ 5.87055981e-02],\n",
       "        [-1.15330398e-01],\n",
       "        [-1.25689358e-01],\n",
       "        [ 1.63949430e-01],\n",
       "        [ 2.12392181e-01],\n",
       "        [ 3.00184451e-02],\n",
       "        [ 1.97824046e-01]], dtype=float32),\n",
       " array([1.0311396], dtype=float32)]"
      ]
     },
     "execution_count": 3,
     "metadata": {},
     "output_type": "execute_result"
    }
   ],
   "source": [
    "model.get_weights()"
   ]
  },
  {
   "cell_type": "code",
   "execution_count": 7,
   "id": "38354137-2698-4cb5-8790-69b9da08c19f",
   "metadata": {},
   "outputs": [],
   "source": [
    "word_index = imdb.get_word_index()\n",
    "## Reversing the word_index dictionary\n",
    "reverse_word_index = {value:key for key, value in word_index.items()}"
   ]
  },
  {
   "cell_type": "code",
   "execution_count": 6,
   "id": "cedbc5e9-d613-4067-aa96-fa8f5cc15e4f",
   "metadata": {},
   "outputs": [],
   "source": [
    "# Function to decode Reviews\n",
    "def decode_review(encoded_review):\n",
    "    return ' '.join([reverse_word_index.get(i-3, '?') for i in encoded_review])\n",
    "# Function to preprocess the user input\n",
    "def preprocess_text(text):\n",
    "    words = text.lower().split()\n",
    "    encoded_review = [word_index.get(word, 2) + 3 for word in words]\n",
    "    padded_review = sequence.pad_sequences([encoded_review], maxlen=500)\n",
    "    return padded_review"
   ]
  },
  {
   "cell_type": "code",
   "execution_count": 8,
   "id": "088f646f-a85e-4447-9fc9-4241a68c2de6",
   "metadata": {},
   "outputs": [],
   "source": [
    "## Prediction function\n",
    "def predict_sentiment(review):\n",
    "    preprocessed_input = preprocess_text(review)\n",
    "\n",
    "    prediction=model.predict(preprocessed_input)\n",
    "\n",
    "    sentiment = 'Positive' if prediction[0][0] > 0.5 else 'Negative'\n",
    "\n",
    "    return sentiment, prediction[0][0]"
   ]
  },
  {
   "cell_type": "code",
   "execution_count": 17,
   "id": "fdc3ccf2-3b5c-4b57-bb7d-0487daefa9db",
   "metadata": {},
   "outputs": [
    {
     "name": "stdout",
     "output_type": "stream",
     "text": [
      "\u001b[1m1/1\u001b[0m \u001b[32m━━━━━━━━━━━━━━━━━━━━\u001b[0m\u001b[37m\u001b[0m \u001b[1m0s\u001b[0m 22ms/step\n",
      "Negative\n",
      "0.23975714\n"
     ]
    }
   ],
   "source": [
    "example_review = \"This movie is fantastic! The acting was great and the plot was thrilling.\"\n",
    "sentiment, score = predict_sentiment(example_review)\n",
    "\n",
    "print(sentiment)\n",
    "print(score)\n"
   ]
  },
  {
   "cell_type": "code",
   "execution_count": null,
   "id": "feb06fe0-6c0c-4857-8cbb-6e7b05c4f68b",
   "metadata": {},
   "outputs": [],
   "source": []
  }
 ],
 "metadata": {
  "kernelspec": {
   "display_name": "Python 3 (ipykernel)",
   "language": "python",
   "name": "python3"
  },
  "language_info": {
   "codemirror_mode": {
    "name": "ipython",
    "version": 3
   },
   "file_extension": ".py",
   "mimetype": "text/x-python",
   "name": "python",
   "nbconvert_exporter": "python",
   "pygments_lexer": "ipython3",
   "version": "3.12.4"
  }
 },
 "nbformat": 4,
 "nbformat_minor": 5
}
