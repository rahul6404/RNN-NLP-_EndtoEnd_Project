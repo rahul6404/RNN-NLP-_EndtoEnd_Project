{
 "cells": [
  {
   "cell_type": "code",
   "execution_count": 1,
   "id": "8946f087-1cb2-43fb-8742-e7a7f64b3a70",
   "metadata": {},
   "outputs": [],
   "source": [
    "from tensorflow.keras.preprocessing.text import one_hot"
   ]
  },
  {
   "cell_type": "code",
   "execution_count": 2,
   "id": "21e2984b-3ebf-4825-837f-200b7c497529",
   "metadata": {},
   "outputs": [],
   "source": [
    "# Sentences\n",
    "sent = ['the glass of milk',\n",
    "        'I am a good boy',\n",
    "        'I am a good developer']"
   ]
  },
  {
   "cell_type": "code",
   "execution_count": 3,
   "id": "1bf3397e-d06d-45b4-aed8-10a0d8a1d4f3",
   "metadata": {},
   "outputs": [],
   "source": [
    "## Define the vocabulary size\n",
    "voc_size = 10000"
   ]
  },
  {
   "cell_type": "code",
   "execution_count": 6,
   "id": "32bfb3fa-c38f-4535-bdfd-c578bf5db02c",
   "metadata": {},
   "outputs": [
    {
     "data": {
      "text/plain": [
       "[[9704, 1648, 9189, 9556],\n",
       " [1130, 4967, 7180, 3722, 40],\n",
       " [1130, 4967, 7180, 3722, 876]]"
      ]
     },
     "execution_count": 6,
     "metadata": {},
     "output_type": "execute_result"
    }
   ],
   "source": [
    "# One hot representation\n",
    "one_hot_repr=[one_hot(words,voc_size)for words in sent]\n",
    "one_hot_repr"
   ]
  },
  {
   "cell_type": "code",
   "execution_count": 7,
   "id": "68958e9e-eede-407b-b30d-b141d3963247",
   "metadata": {},
   "outputs": [],
   "source": [
    "# Word embedding Representation\n",
    "from tensorflow.keras.layers import Embedding\n",
    "from tensorflow.keras.utils import pad_sequences\n",
    "from tensorflow.keras.models import Sequential"
   ]
  },
  {
   "cell_type": "code",
   "execution_count": 8,
   "id": "d8d0da1d-23a1-449e-a831-42a6a794b0cd",
   "metadata": {},
   "outputs": [],
   "source": [
    "import numpy as np"
   ]
  },
  {
   "cell_type": "code",
   "execution_count": 9,
   "id": "f2bbe846-b20f-4184-b0c7-b3d2346a0821",
   "metadata": {},
   "outputs": [],
   "source": [
    "sent_length=8\n",
    "embedded_docs = pad_sequences(one_hot_repr, padding='pre', maxlen=sent_length)"
   ]
  },
  {
   "cell_type": "code",
   "execution_count": 10,
   "id": "de314972-149a-43b8-946a-89a54ee30817",
   "metadata": {},
   "outputs": [
    {
     "name": "stdout",
     "output_type": "stream",
     "text": [
      "[[   0    0    0    0 9704 1648 9189 9556]\n",
      " [   0    0    0 1130 4967 7180 3722   40]\n",
      " [   0    0    0 1130 4967 7180 3722  876]]\n"
     ]
    }
   ],
   "source": [
    "print(embedded_docs)"
   ]
  },
  {
   "cell_type": "code",
   "execution_count": 27,
   "id": "4c66e9f4-5121-435d-adee-dab9c0253492",
   "metadata": {},
   "outputs": [],
   "source": [
    "# feature representation\n",
    "dim=10"
   ]
  },
  {
   "cell_type": "code",
   "execution_count": 44,
   "id": "1ad7dee2-038a-4f3b-b234-7e83bfb002cc",
   "metadata": {},
   "outputs": [],
   "source": [
    "model = Sequential()\n",
    "model.add(Embedding(voc_size, dim, input_length=sent_length))\n",
    "model.compile('adam', 'mse')"
   ]
  },
  {
   "cell_type": "code",
   "execution_count": 37,
   "id": "534d21dc-ed1d-4739-bb26-db68f9122598",
   "metadata": {},
   "outputs": [
    {
     "name": "stdout",
     "output_type": "stream",
     "text": [
      "\u001b[1m1/1\u001b[0m \u001b[32m━━━━━━━━━━━━━━━━━━━━\u001b[0m\u001b[37m\u001b[0m \u001b[1m0s\u001b[0m 16ms/step\n"
     ]
    },
    {
     "data": {
      "text/plain": [
       "array([[[ 0.00206987,  0.01799513, -0.03939884,  0.00152919,\n",
       "          0.03774568, -0.04084804,  0.02523282, -0.04204376,\n",
       "         -0.00940025,  0.01378592],\n",
       "        [ 0.00206987,  0.01799513, -0.03939884,  0.00152919,\n",
       "          0.03774568, -0.04084804,  0.02523282, -0.04204376,\n",
       "         -0.00940025,  0.01378592],\n",
       "        [ 0.00206987,  0.01799513, -0.03939884,  0.00152919,\n",
       "          0.03774568, -0.04084804,  0.02523282, -0.04204376,\n",
       "         -0.00940025,  0.01378592],\n",
       "        [ 0.00206987,  0.01799513, -0.03939884,  0.00152919,\n",
       "          0.03774568, -0.04084804,  0.02523282, -0.04204376,\n",
       "         -0.00940025,  0.01378592],\n",
       "        [ 0.0380807 ,  0.01587984, -0.00352602,  0.04037127,\n",
       "         -0.04248517,  0.03267306, -0.01425955,  0.03826738,\n",
       "          0.0200444 , -0.00100268],\n",
       "        [ 0.03420955,  0.03888989,  0.04958173, -0.03497248,\n",
       "          0.041064  ,  0.04588426,  0.04332181, -0.03249482,\n",
       "          0.01112073, -0.0121806 ],\n",
       "        [-0.02978129, -0.03529214, -0.04148177, -0.03842448,\n",
       "         -0.03849063, -0.04548813, -0.01549845,  0.04819573,\n",
       "          0.01244152, -0.01683329],\n",
       "        [ 0.00623542,  0.00709938,  0.0428232 ,  0.03725294,\n",
       "          0.01089583, -0.02818487,  0.04798248,  0.02723087,\n",
       "          0.0352345 ,  0.00214072]],\n",
       "\n",
       "       [[ 0.00206987,  0.01799513, -0.03939884,  0.00152919,\n",
       "          0.03774568, -0.04084804,  0.02523282, -0.04204376,\n",
       "         -0.00940025,  0.01378592],\n",
       "        [ 0.00206987,  0.01799513, -0.03939884,  0.00152919,\n",
       "          0.03774568, -0.04084804,  0.02523282, -0.04204376,\n",
       "         -0.00940025,  0.01378592],\n",
       "        [ 0.00206987,  0.01799513, -0.03939884,  0.00152919,\n",
       "          0.03774568, -0.04084804,  0.02523282, -0.04204376,\n",
       "         -0.00940025,  0.01378592],\n",
       "        [-0.03254658, -0.00903948, -0.01085496,  0.02644597,\n",
       "          0.00059813, -0.04164171, -0.03589947, -0.01685575,\n",
       "         -0.02503996, -0.00598626],\n",
       "        [-0.03789032,  0.03207225,  0.03908361, -0.03534897,\n",
       "          0.04507308, -0.04021869,  0.00194431, -0.02850452,\n",
       "         -0.02825248, -0.01813735],\n",
       "        [-0.03274155,  0.01659909, -0.04935622,  0.02391079,\n",
       "         -0.01840898,  0.03065586,  0.00873555,  0.00399716,\n",
       "          0.02447381, -0.00419332],\n",
       "        [-0.03736664,  0.02551578, -0.02003069, -0.01792457,\n",
       "         -0.03264447, -0.02585495, -0.04371614,  0.0266739 ,\n",
       "          0.01020571, -0.04780053],\n",
       "        [ 0.01521816, -0.02311527, -0.02130249,  0.01982271,\n",
       "         -0.01960523,  0.00579791, -0.03391507, -0.02566034,\n",
       "         -0.02994904,  0.00031007]],\n",
       "\n",
       "       [[ 0.00206987,  0.01799513, -0.03939884,  0.00152919,\n",
       "          0.03774568, -0.04084804,  0.02523282, -0.04204376,\n",
       "         -0.00940025,  0.01378592],\n",
       "        [ 0.00206987,  0.01799513, -0.03939884,  0.00152919,\n",
       "          0.03774568, -0.04084804,  0.02523282, -0.04204376,\n",
       "         -0.00940025,  0.01378592],\n",
       "        [ 0.00206987,  0.01799513, -0.03939884,  0.00152919,\n",
       "          0.03774568, -0.04084804,  0.02523282, -0.04204376,\n",
       "         -0.00940025,  0.01378592],\n",
       "        [-0.03254658, -0.00903948, -0.01085496,  0.02644597,\n",
       "          0.00059813, -0.04164171, -0.03589947, -0.01685575,\n",
       "         -0.02503996, -0.00598626],\n",
       "        [-0.03789032,  0.03207225,  0.03908361, -0.03534897,\n",
       "          0.04507308, -0.04021869,  0.00194431, -0.02850452,\n",
       "         -0.02825248, -0.01813735],\n",
       "        [-0.03274155,  0.01659909, -0.04935622,  0.02391079,\n",
       "         -0.01840898,  0.03065586,  0.00873555,  0.00399716,\n",
       "          0.02447381, -0.00419332],\n",
       "        [-0.03736664,  0.02551578, -0.02003069, -0.01792457,\n",
       "         -0.03264447, -0.02585495, -0.04371614,  0.0266739 ,\n",
       "          0.01020571, -0.04780053],\n",
       "        [ 0.03158465, -0.02824912,  0.03558816, -0.04597576,\n",
       "          0.00677768,  0.03867425,  0.02472049,  0.0435084 ,\n",
       "         -0.01889455, -0.04725621]]], dtype=float32)"
      ]
     },
     "execution_count": 37,
     "metadata": {},
     "output_type": "execute_result"
    }
   ],
   "source": [
    "model.predict(embedded_docs)"
   ]
  },
  {
   "cell_type": "code",
   "execution_count": 38,
   "id": "800d4bf5-cd5e-4193-9819-9713b33576de",
   "metadata": {},
   "outputs": [],
   "source": [
    "x = embedded_docs[0]"
   ]
  },
  {
   "cell_type": "code",
   "execution_count": 41,
   "id": "7a9d412e-1d94-4be9-bb6a-f5b198d1d149",
   "metadata": {},
   "outputs": [
    {
     "ename": "ValueError",
     "evalue": "Exception encountered when calling Sequential.call().\n\n\u001b[1mCannot take the length of shape with unknown rank.\u001b[0m\n\nArguments received by Sequential.call():\n  • inputs=tf.Tensor(shape=<unknown>, dtype=int32)\n  • training=False\n  • mask=None",
     "output_type": "error",
     "traceback": [
      "\u001b[1;31m---------------------------------------------------------------------------\u001b[0m",
      "\u001b[1;31mValueError\u001b[0m                                Traceback (most recent call last)",
      "Cell \u001b[1;32mIn[41], line 1\u001b[0m\n\u001b[1;32m----> 1\u001b[0m model\u001b[38;5;241m.\u001b[39mpredict(x)\n",
      "File \u001b[1;32mD:\\Anaconda\\Lib\\site-packages\\keras\\src\\utils\\traceback_utils.py:122\u001b[0m, in \u001b[0;36mfilter_traceback.<locals>.error_handler\u001b[1;34m(*args, **kwargs)\u001b[0m\n\u001b[0;32m    119\u001b[0m     filtered_tb \u001b[38;5;241m=\u001b[39m _process_traceback_frames(e\u001b[38;5;241m.\u001b[39m__traceback__)\n\u001b[0;32m    120\u001b[0m     \u001b[38;5;66;03m# To get the full stack trace, call:\u001b[39;00m\n\u001b[0;32m    121\u001b[0m     \u001b[38;5;66;03m# `keras.config.disable_traceback_filtering()`\u001b[39;00m\n\u001b[1;32m--> 122\u001b[0m     \u001b[38;5;28;01mraise\u001b[39;00m e\u001b[38;5;241m.\u001b[39mwith_traceback(filtered_tb) \u001b[38;5;28;01mfrom\u001b[39;00m \u001b[38;5;28;01mNone\u001b[39;00m\n\u001b[0;32m    123\u001b[0m \u001b[38;5;28;01mfinally\u001b[39;00m:\n\u001b[0;32m    124\u001b[0m     \u001b[38;5;28;01mdel\u001b[39;00m filtered_tb\n",
      "File \u001b[1;32mD:\\Anaconda\\Lib\\site-packages\\keras\\src\\utils\\traceback_utils.py:122\u001b[0m, in \u001b[0;36mfilter_traceback.<locals>.error_handler\u001b[1;34m(*args, **kwargs)\u001b[0m\n\u001b[0;32m    119\u001b[0m     filtered_tb \u001b[38;5;241m=\u001b[39m _process_traceback_frames(e\u001b[38;5;241m.\u001b[39m__traceback__)\n\u001b[0;32m    120\u001b[0m     \u001b[38;5;66;03m# To get the full stack trace, call:\u001b[39;00m\n\u001b[0;32m    121\u001b[0m     \u001b[38;5;66;03m# `keras.config.disable_traceback_filtering()`\u001b[39;00m\n\u001b[1;32m--> 122\u001b[0m     \u001b[38;5;28;01mraise\u001b[39;00m e\u001b[38;5;241m.\u001b[39mwith_traceback(filtered_tb) \u001b[38;5;28;01mfrom\u001b[39;00m \u001b[38;5;28;01mNone\u001b[39;00m\n\u001b[0;32m    123\u001b[0m \u001b[38;5;28;01mfinally\u001b[39;00m:\n\u001b[0;32m    124\u001b[0m     \u001b[38;5;28;01mdel\u001b[39;00m filtered_tb\n",
      "\u001b[1;31mValueError\u001b[0m: Exception encountered when calling Sequential.call().\n\n\u001b[1mCannot take the length of shape with unknown rank.\u001b[0m\n\nArguments received by Sequential.call():\n  • inputs=tf.Tensor(shape=<unknown>, dtype=int32)\n  • training=False\n  • mask=None"
     ]
    }
   ],
   "source": [
    "model.predict(x)"
   ]
  },
  {
   "cell_type": "code",
   "execution_count": null,
   "id": "80afaf46-140c-4f01-a8de-49f873da1286",
   "metadata": {},
   "outputs": [],
   "source": []
  }
 ],
 "metadata": {
  "kernelspec": {
   "display_name": "Python 3 (ipykernel)",
   "language": "python",
   "name": "python3"
  },
  "language_info": {
   "codemirror_mode": {
    "name": "ipython",
    "version": 3
   },
   "file_extension": ".py",
   "mimetype": "text/x-python",
   "name": "python",
   "nbconvert_exporter": "python",
   "pygments_lexer": "ipython3",
   "version": "3.12.4"
  }
 },
 "nbformat": 4,
 "nbformat_minor": 5
}
